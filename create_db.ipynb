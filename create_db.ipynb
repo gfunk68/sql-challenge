{
 "cells": [
  {
   "cell_type": "code",
   "execution_count": 1,
   "metadata": {},
   "outputs": [],
   "source": [
    "import pandas as pd\n",
    "from sqlalchemy import create_engine\n",
    "import os\n",
    "from sqlalchemy.ext.declarative import declarative_base\n",
    "Base = declarative_base()"
   ]
  },
  {
   "cell_type": "code",
   "execution_count": 2,
   "metadata": {},
   "outputs": [],
   "source": [
    "departments_csv_path = os.path.join(\"data\", \"departments.csv\")\n",
    "dept_emp_csv_path = os.path.join(\"data\", \"dept_emp.csv\")\n",
    "dept_manager_csv_path = os.path.join(\"data\", \"dept_manager.csv\")\n",
    "employees_csv_path = os.path.join(\"data\", \"employees.csv\")\n",
    "salaries_csv_path = os.path.join(\"data\", \"salaries.csv\")\n",
    "titles_csv_path = os.path.join(\"data\", \"titles.csv\")\n",
    "\n",
    "dbuser = 'postgres'\n",
    "dbpassword = 'postgres'\n",
    "dbhost = 'localhost'\n",
    "dbport = '5432'\n",
    "dbname= 'employee_db'\n",
    "\n",
    "engine = create_engine(f\"postgres://{dbuser}:{dbpassword}@{dbhost}:{dbport}/{dbname}\")\n",
    "Base.metadata.create_all(engine)\n"
   ]
  },
  {
   "cell_type": "code",
   "execution_count": 3,
   "metadata": {},
   "outputs": [],
   "source": [
    "pd.DataFrame(pd.read_csv(departments_csv_path)).to_sql('departments',con=engine,if_exists='append',index = False)\n",
    "pd.DataFrame(pd.read_csv(employees_csv_path)).to_sql('employees',con=engine,if_exists='append',index = False)\n",
    "pd.DataFrame(pd.read_csv(salaries_csv_path)).to_sql('salaries',con=engine,if_exists='append',index = False)\n",
    "pd.DataFrame(pd.read_csv(titles_csv_path)).to_sql('titles',con=engine,if_exists='append',index = False)"
   ]
  },
  {
   "cell_type": "code",
   "execution_count": 4,
   "metadata": {},
   "outputs": [],
   "source": [
    "pd.DataFrame(pd.read_csv(dept_emp_csv_path)).to_sql('dept_emp',con=engine,if_exists='append',index = False)\n",
    "pd.DataFrame(pd.read_csv(dept_manager_csv_path)).to_sql('dept_manager',con=engine,if_exists='append',index = False)"
   ]
  },
  {
   "cell_type": "code",
   "execution_count": null,
   "metadata": {},
   "outputs": [],
   "source": []
  }
 ],
 "metadata": {
  "kernelspec": {
   "display_name": "Python 3",
   "language": "python",
   "name": "python3"
  },
  "language_info": {
   "codemirror_mode": {
    "name": "ipython",
    "version": 3
   },
   "file_extension": ".py",
   "mimetype": "text/x-python",
   "name": "python",
   "nbconvert_exporter": "python",
   "pygments_lexer": "ipython3",
   "version": "3.7.3"
  }
 },
 "nbformat": 4,
 "nbformat_minor": 4
}
